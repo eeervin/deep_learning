{
 "cells": [
  {
   "cell_type": "code",
   "execution_count": 2,
   "metadata": {
    "ExecuteTime": {
     "end_time": "2019-10-15T21:40:19.063176Z",
     "start_time": "2019-10-15T21:40:18.732697Z"
    }
   },
   "outputs": [
    {
     "name": "stdout",
     "output_type": "stream",
     "text": [
      "Found 1896 images belonging to 2 classes.\n",
      "Found 1896 images belonging to 2 classes.\n",
      "Found 1896 images belonging to 2 classes.\n"
     ]
    }
   ],
   "source": [
    "from PIL import Image # image open\n",
    "import glob\n",
    "import os\n",
    "import random\n",
    "import numpy as np\n",
    "from tensorflow.keras.preprocessing.image import ImageDataGenerator\n",
    "\n",
    "\n",
    "#Only for ImageNet data\n",
    "#Downloader is in imnetdl.py\n",
    "\n",
    "\n",
    "batch_size=20\n",
    "train_path='./imnet/train/'\n",
    "valid_path='./imnet/test/'\n",
    "test_path='./imnet/valid/'\n",
    "#Defining image datagen\n",
    "train_datagen = ImageDataGenerator(rescale=1./255) #Reducing to 0-1 range\n",
    "\n",
    "\n",
    "#Defining dataflow from folders to be used with model.fit_generator() functions or getting batches manually\n",
    "train_generator = train_datagen.flow_from_directory(\n",
    "        train_path,  \n",
    "        target_size=(244, 244), #standard VGG size\n",
    "        batch_size=batch_size,\n",
    "        class_mode='categorical')\n",
    "\n",
    "#Same as train generator with different path\n",
    "validation_generator = train_datagen.flow_from_directory(\n",
    "        valid_path,\n",
    "        target_size=(244, 244),\n",
    "        batch_size=batch_size,\n",
    "        class_mode='categorical')\n",
    "\n",
    "#Same as train generator with different path\n",
    "test_generator = train_datagen.flow_from_directory(\n",
    "        test_path,\n",
    "        target_size=(244, 244),\n",
    "        batch_size=batch_size,\n",
    "        class_mode='categorical')\n"
   ]
  },
  {
   "cell_type": "code",
   "execution_count": null,
   "metadata": {},
   "outputs": [],
   "source": []
  }
 ],
 "metadata": {
  "kernelspec": {
   "display_name": "Python 3",
   "language": "python",
   "name": "python3"
  },
  "language_info": {
   "codemirror_mode": {
    "name": "ipython",
    "version": 3
   },
   "file_extension": ".py",
   "mimetype": "text/x-python",
   "name": "python",
   "nbconvert_exporter": "python",
   "pygments_lexer": "ipython3",
   "version": "3.7.4"
  }
 },
 "nbformat": 4,
 "nbformat_minor": 2
}
